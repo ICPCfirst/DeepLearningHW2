{
  "nbformat": 4,
  "nbformat_minor": 0,
  "metadata": {
    "colab": {
      "name": "HW2(Generative).ipynb",
      "provenance": [],
      "collapsed_sections": [],
      "mount_file_id": "11ShTmMw2INKM8NrKcSEMjkc8Q22nzFYg",
      "authorship_tag": "ABX9TyOi91PNlL6yX5Y6/f8Zw5wo",
      "include_colab_link": true
    },
    "kernelspec": {
      "name": "python3",
      "display_name": "Python 3"
    },
    "language_info": {
      "name": "python"
    }
  },
  "cells": [
    {
      "cell_type": "markdown",
      "metadata": {
        "id": "view-in-github",
        "colab_type": "text"
      },
      "source": [
        "<a href=\"https://colab.research.google.com/github/ICPCfirst/DeepLearningHW2/blob/main/HW2(Generative).ipynb\" target=\"_parent\"><img src=\"https://colab.research.google.com/assets/colab-badge.svg\" alt=\"Open In Colab\"/></a>"
      ]
    },
    {
      "cell_type": "code",
      "source": [
        "import numpy as np\n",
        "\n",
        "np.random.seed(0)\n",
        "X_train_fpath = \"/content/drive/MyDrive/data/X_train\"\n",
        "X_test_fpath = \"/content/drive/MyDrive/data/X_test\"\n",
        "Y_train_fpath = \"/content/drive/MyDrive/data/Y_train\"\n",
        "output_fpath = \"./output_{}.csv\""
      ],
      "metadata": {
        "id": "ZtqTY2uoYU_5"
      },
      "execution_count": null,
      "outputs": []
    },
    {
      "cell_type": "code",
      "source": [
        "with open(X_train_fpath) as f:\n",
        "  next(f)\n",
        "  X_train = np.array([line.strip(\"\\n\").split(\",\")[1:] for line in f],dtype = float)\n",
        "with open(X_test_fpath) as f:\n",
        "  next(f)\n",
        "  X_test = np.array([line.strip(\"\\n\").split(\",\")[1:] for line in f],dtype = float)\n",
        "with open(Y_train_fpath) as f:\n",
        "  next(f)\n",
        "  Y_train = np.array([line.strip(\"\\n\").split(\",\")[1:] for line in f],dtype = float)\n",
        "  "
      ],
      "metadata": {
        "id": "DMYGW_fhZHkX"
      },
      "execution_count": null,
      "outputs": []
    },
    {
      "cell_type": "code",
      "source": [
        "def _normalize(X,train = True,specified_column = None,X_mean = None,X_std = None):\n",
        "  if specified_column == None:\n",
        "    specified_column = np.arange(X.shape[1])\n",
        "  if train:\n",
        "    X_mean = np.mean(X[:,specified_column],0).reshape(1,-1) # meean(0)==压缩行 ；reshape == 必须转化为一行n列 ？？？？？？？是不是重复了\n",
        "    X_std = np.std(X[:,specified_column]).reshape(1,-1)\n",
        "  \n",
        "  X[:,specified_column] = (X[:,specified_column]-X_mean)/(X_std + 1e-8)# 进行归一化，中心化和标准处理化\n",
        "  return X,X_mean,X_std"
      ],
      "metadata": {
        "id": "TY0kR05ZcCVR"
      },
      "execution_count": null,
      "outputs": []
    },
    {
      "cell_type": "code",
      "source": [
        "def _train_dev_split(X,Y,dev_ratio = 0.25):\n",
        "  train_size = int(len(X)*(1-dev_ratio))\n",
        "  return X[:train_size],Y[:train_size],X[train_size:],Y[train_size:]"
      ],
      "metadata": {
        "id": "1rnFR-P2fDH9"
      },
      "execution_count": null,
      "outputs": []
    },
    {
      "cell_type": "code",
      "source": [
        "X_train,X_mean,X_std = _normalize(X_train,train = True)\n",
        "X_test,_,_ = _normalize(X_test,train = False,specified_column=None,X_mean = X_mean,X_std = X_std)\n",
        "\n",
        "dev_ratio = 0.1\n",
        "X_train,Y_train,X_dev,Y_dev = _train_dev_split(X_train,Y_train,dev_ratio = dev_ratio) #自己根据已给数据分开来使程序准确性更高\n",
        "\n",
        "train_size = X_train.shape[0]\n",
        "dev_size = X_dev.shape[0]\n",
        "test_size = X_test.shape[0]\n",
        "data_dim = X_train.shape[1]"
      ],
      "metadata": {
        "id": "ywFAsLGA_SGb"
      },
      "execution_count": null,
      "outputs": []
    }
  ]
}