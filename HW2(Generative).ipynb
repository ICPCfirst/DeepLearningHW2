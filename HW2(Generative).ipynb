{
  "nbformat": 4,
  "nbformat_minor": 0,
  "metadata": {
    "colab": {
      "name": "HW2(Generative).ipynb",
      "provenance": [],
      "collapsed_sections": [],
      "mount_file_id": "11ShTmMw2INKM8NrKcSEMjkc8Q22nzFYg",
      "authorship_tag": "ABX9TyM5utRVmxh9U5F1laiPpSt0",
      "include_colab_link": true
    },
    "kernelspec": {
      "name": "python3",
      "display_name": "Python 3"
    },
    "language_info": {
      "name": "python"
    },
    "accelerator": "GPU"
  },
  "cells": [
    {
      "cell_type": "markdown",
      "metadata": {
        "id": "view-in-github",
        "colab_type": "text"
      },
      "source": [
        "<a href=\"https://colab.research.google.com/github/ICPCfirst/DeepLearningHW2/blob/main/HW2(Generative).ipynb\" target=\"_parent\"><img src=\"https://colab.research.google.com/assets/colab-badge.svg\" alt=\"Open In Colab\"/></a>"
      ]
    },
    {
      "cell_type": "code",
      "source": [
        "import numpy as np\n",
        "\n",
        "np.random.seed(0)\n",
        "X_train_fpath = \"content/drive/MyDrive/data/X_train\"\n",
        "X_test_fpath = \"content/drive/MyDrive/data/X_test\"\n",
        "Y_train_fpath = \"content/drive/MyDrive/data/Y_train\"\n",
        "output_fpath = \"./output_{}.csv\""
      ],
      "metadata": {
        "id": "ZtqTY2uoYU_5"
      },
      "execution_count": 1,
      "outputs": []
    },
    {
      "cell_type": "code",
      "source": [
        "with open(X_train_fpath) as f:\n",
        "  next(f)\n",
        "  X_train = np.array([line.strip(\"\\n\").split(\",\")[1:] for line in f],dtype = float)\n",
        "with open(X_test_fpath) as f:\n",
        "  next(f)\n",
        "  X_test = np.array([line.strip(\"\\n\").split(\",\")[1:] for line in f],dtype = float)\n",
        "with open(Y_train_fpath) as f:\n",
        "  next(f)\n",
        "  Y_train = np.array([line.strip(\"\\n\").split(\",\")[1:] for line in f],dtype = float)\n",
        "  "
      ],
      "metadata": {
        "id": "DMYGW_fhZHkX"
      },
      "execution_count": 2,
      "outputs": []
    },
    {
      "cell_type": "code",
      "source": [
        "def _normalize(X,train = True,specified_column = None,X_mean = None,X_std = None):\n",
        "  if specified_column == None:\n",
        "    specified_column = np.arange(X.shape[1])\n",
        "  if train:\n",
        "    X_mean = np.mean(X[:,specified_column],0).reshape(1,-1) # meean(0)==压缩行 ；reshape == 必须转化为一行n列 ？？？？？？？是不是重复了\n",
        "    X_std = np.std(X[:,specified_column]).reshape(1,-1)\n",
        "  \n",
        "  X[:,specified_column] = (X[:,specified_column]-X_mean)/(X_std + 1e-8)# 进行归一化，中心化和标准处理化\n",
        "  return X,X_mean,X_std"
      ],
      "metadata": {
        "id": "TY0kR05ZcCVR"
      },
      "execution_count": 3,
      "outputs": []
    },
    {
      "cell_type": "code",
      "source": [
        "def _train_dev_split(X,Y,dev_ratio = 0.25):\n",
        "  train_size = int(len(X)*(1-dev_ratio))\n",
        "  return X[:train_size],Y[:train_size],X[train_size:],Y[train_size:]"
      ],
      "metadata": {
        "id": "1rnFR-P2fDH9"
      },
      "execution_count": 4,
      "outputs": []
    },
    {
      "cell_type": "code",
      "source": [
        "X_train,X_mean,X_std = _normalize(X_train,train = True)\n",
        "X_test,_,_ = _normalize(X_test,train = False,specified_column=None,X_mean = X_mean,X_std = X_std)\n",
        "\n",
        "dev_ratio = 0.1\n",
        "X_train, Y_train, X_dev, Y_dev = _train_dev_split(X_train, Y_train, dev_ratio = dev_ratio)\n",
        "\n",
        "train_size = X_train.shape[0]\n",
        "dev_size = X_dev.shape[0]\n",
        "test_size = X_test.shape[0]\n",
        "data_dim = X_train.shape[1]\n"
      ],
      "metadata": {
        "id": "ywFAsLGA_SGb"
      },
      "execution_count": 5,
      "outputs": []
    },
    {
      "cell_type": "code",
      "source": [
        "def _shuffle(X, Y):\n",
        "    # This function shuffles two equal-length list/array, X and Y, together.\n",
        "    randomize = np.arange(len(X))\n",
        "    np.random.shuffle(randomize)\n",
        "    return (X[randomize], Y[randomize])\n",
        "\n",
        "def _sigmoid(z):\n",
        "    # Sigmoid function can be used to calculate probability.\n",
        "    # To avoid overflow, minimum/maximum output value is set.\n",
        "    return np.clip(1 / (1.0 + np.exp(-z)), 1e-8, 1 - (1e-8))\n",
        "\n",
        "def _f(X, w, b):\n",
        "    # This is the logistic regression function, parameterized by w and b\n",
        "    #\n",
        "    # Arguements:\n",
        "    #     X: input data, shape = [batch_size, data_dimension]\n",
        "    #     w: weight vector, shape = [data_dimension, ]\n",
        "    #     b: bias, scalar\n",
        "    # Output:\n",
        "    #     predicted probability of each row of X being positively labeled, shape = [batch_size, ]\n",
        "    return _sigmoid(np.matmul(X, w) + b)\n",
        "\n",
        "def _predict(X, w, b):\n",
        "    # This function returns a truth value prediction for each row of X \n",
        "    # by rounding the result of logistic regression function.\n",
        "    return np.round(_f(X, w, b)).astype(np.int)\n",
        "    \n",
        "def _accuracy(Y_pred, Y_label):\n",
        "    # This function calculates prediction accuracy\n",
        "    acc = 1 - np.mean(np.abs(Y_pred - Y_label))\n",
        "    return acc\n"
      ],
      "metadata": {
        "id": "stck-2bAUlow"
      },
      "execution_count": 6,
      "outputs": []
    },
    {
      "cell_type": "code",
      "source": [
        "# 分别计算类别0和类别1的均值\n",
        "X_train_0 = np.array([x for x, y in zip(X_train, Y_train) if y == 0])  # u0，内容全为X\n",
        "X_train_1 = np.array([x for x, y in zip(X_train, Y_train) if y == 1])  # u1\n",
        "\n",
        "mean_0 = np.mean(X_train_0, axis = 0) # 压缩行，求各列均值\n",
        "mean_1 = np.mean(X_train_1, axis = 0)\n",
        "\n",
        "#print(X_train_0.shape) #(38784, 510) 有三万多行数据的结果是u0\n",
        "#print(\"*\"*50) \n",
        "#print(X_train_1.shape) #(10046, 510)) 有一万多行数据的结果是u1\n",
        "#print(\"*\"*50)\n",
        "#print(mean_0)\n",
        "#print(\"*\"*50)\n",
        "#print(mean_1.shape)"
      ],
      "metadata": {
        "id": "wwIAZv3WGnEd"
      },
      "execution_count": 7,
      "outputs": []
    },
    {
      "cell_type": "code",
      "source": [
        "# 分别计算类别0和类别1的协方差\n",
        "cov_0 = np.zeros((data_dim, data_dim))\n",
        "cov_1 = np.zeros((data_dim, data_dim))\n",
        "\n",
        "for x in X_train_0:\n",
        "    cov_0 += np.dot(np.transpose([x - mean_0]), [x - mean_0]) / X_train_0.shape[0] #求每一个判断依据（如是否上过大学）的Covariance（就是E)\n",
        "for x in X_train_1:\n",
        "    cov_1 += np.dot(np.transpose([x - mean_1]), [x - mean_1]) / X_train_1.shape[0]\n",
        "\n",
        "# 共享协方差 = 独立的协方差的加权求和 就是E\n",
        "cov = (cov_0 * X_train_0.shape[0] + cov_1 * X_train_1.shape[0]) / (X_train_0.shape[0] + X_train_1.shape[0])\n",
        "\n",
        "# 计算协方差矩阵的逆\n",
        "# 协方差矩阵可能是奇异矩阵, 直接使用np.linalg.inv() 可能会产生错误\n",
        "# 通过SVD矩阵分解，可以快速准确地获得方差矩阵的逆\n",
        "# A(m,n)=U(m,r)Σ(r,r)V(r,n)T  我们仅需保留着三个比较小的矩阵，就能表示A，不仅节省存储量，在计算的时候更是减少了计算量  SVD\n",
        "u, s, v = np.linalg.svd(cov, full_matrices=False) #emmm,以后。。。再补注释，反正现在直接用公式就好\n",
        "inv = np.matmul(v.T * 1 / s, u.T)\n",
        "\n",
        "# 计算w和b\n",
        "w = np.dot(inv, mean_0 - mean_1)\n",
        "b =  (-0.5) * np.dot(mean_0, np.dot(inv, mean_0)) + 0.5 * np.dot(mean_1, np.dot(inv, mean_1))\\\n",
        "    + np.log(float(X_train_0.shape[0]) / X_train_1.shape[0]) "
      ],
      "metadata": {
        "id": "vhzNgaUJAXoT"
      },
      "execution_count": 8,
      "outputs": []
    },
    {
      "cell_type": "code",
      "source": [
        "# 计算训练集上的准确率\n",
        "Y_train_pred = 1 - _predict(X_train, w, b)\n",
        "print('Training accuracy: {}'.format(_accuracy(Y_train_pred, Y_train)))"
      ],
      "metadata": {
        "colab": {
          "base_uri": "https://localhost:8080/"
        },
        "id": "FPxamL32FxbD",
        "outputId": "a60a82b9-a37b-4ee8-a503-497d06a46fb4"
      },
      "execution_count": null,
      "outputs": [
        {
          "output_type": "stream",
          "name": "stderr",
          "text": [
            "/usr/local/lib/python3.7/dist-packages/ipykernel_launcher.py:26: DeprecationWarning: `np.int` is a deprecated alias for the builtin `int`. To silence this warning, use `int` by itself. Doing this will not modify any behavior and is safe. When replacing `np.int`, you may wish to use e.g. `np.int64` or `np.int32` to specify the precision. If you wish to review your current use, check the release note link for additional information.\n",
            "Deprecated in NumPy 1.20; for more details and guidance: https://numpy.org/devdocs/release/1.20.0-notes.html#deprecations\n"
          ]
        }
      ]
    }
  ]
}