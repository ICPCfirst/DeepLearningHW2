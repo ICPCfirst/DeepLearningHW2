{
  "nbformat": 4,
  "nbformat_minor": 0,
  "metadata": {
    "colab": {
      "name": "HW2.ipynb",
      "provenance": [],
      "collapsed_sections": [],
      "mount_file_id": "1w2X32kIW6N-fPnj7hRF3RxqsVrXaUpck",
      "authorship_tag": "ABX9TyMjy5IqXvGodbYZiJTlDgG/",
      "include_colab_link": true
    },
    "kernelspec": {
      "name": "python3",
      "display_name": "Python 3"
    },
    "language_info": {
      "name": "python"
    },
    "accelerator": "GPU"
  },
  "cells": [
    {
      "cell_type": "markdown",
      "metadata": {
        "id": "view-in-github",
        "colab_type": "text"
      },
      "source": [
        "<a href=\"https://colab.research.google.com/github/ICPCfirst/DeepLearningHW2/blob/main/HW2.ipynb\" target=\"_parent\"><img src=\"https://colab.research.google.com/assets/colab-badge.svg\" alt=\"Open In Colab\"/></a>"
      ]
    },
    {
      "cell_type": "code",
      "source": [
        "import numpy as np\n",
        "\n",
        "np.random.seed(0)\n",
        "X_train_fpath = '/content/drive/MyDrive/data/X_train'\n",
        "Y_train_fpath = '/content/drive/MyDrive/data/Y_train'\n",
        "X_test_fpath = '/content/drive/MyDrive/data/X_test'\n",
        "output_fpath = './output_{}.csv'"
      ],
      "metadata": {
        "id": "O3J7OR-wbcgs"
      },
      "execution_count": 34,
      "outputs": []
    },
    {
      "cell_type": "code",
      "source": [
        " # Parse csv files to numpy array\n",
        "with open(X_train_fpath) as f:        #为了更好关闭文件采用的写法，用来读文件，f指向X_TRAIN。open中的MODE不写，表示只读。\n",
        "    next(f)                           #next用来迭代，每次向后读一行。这里用来跳过文件的第一行。\n",
        "    X_train = np.array([line.strip('\\n').split(',')[1:] for line in f], dtype = float)   #.strip用来移除字符串首尾指定的字符,split用来以逗号分割句子，\n",
        "# 得到的结果相当于一个数组，所以后面可以用[1:]来表示下标1及后面的所有元素。for line in f是列表推导式的用法。对于f中的每个LINE都进行前面的操作。\n",
        "with open(Y_train_fpath) as f:\n",
        "    next(f)\n",
        "    Y_train = np.array([line.strip('\\n').split(',')[1] for line in f], dtype = float)\n",
        "with open(X_test_fpath) as f:\n",
        "    next(f)\n",
        "    X_test = np.array([line.strip('\\n').split(',')[1:] for line in f], dtype = float)\n",
        "# print('1',X_train.shape)\n",
        "# print(X_train)\n",
        "# [[33.  1.  0. ... 52.  0.  1.]\n",
        "# [63.  1.  0. ... 52.  0.  1.]\n",
        "# [71.  0.  0. ...  0.  0.  1.]\n",
        "# ...\n",
        "# [16.  0.  0. ...  8.  1.  0.]\n",
        "# [48.  1.  0. ... 52.  0.  1.]\n",
        "# [48.  0.  0. ...  0.  0.  1.]]"
      ],
      "metadata": {
        "id": "cT3BhduVc1XM"
      },
      "execution_count": 35,
      "outputs": []
    },
    {
      "cell_type": "code",
      "source": [
        "def _normalize(X, train = True, specified_column = None, X_mean = None, X_std = None):\n",
        "     # 此函数对 X 的特定列进行归一化。\n",
        "     # 在处理测试数据时，将重复使用训练数据的均值和标准方差。\n",
        "     #1\n",
        "     # 参数：\n",
        "     # X：要处理的数据\n",
        "     # train: 处理训练数据时为'True'，测试数据时为'False'\n",
        "     # specific_column：将被规范化的列的索引。 如果“无”，则所有列\n",
        "     # 将被标准化。\n",
        "     # X_mean：训练数据的平均值，当train = 'False'时使用\n",
        "     # X_std：训练数据的标准差，当train = 'False'时使用\n",
        "     # 输出：\n",
        "     # X：归一化数据\n",
        "     # X_mean: 训练数据的计算平均值\n",
        "     # X_std: 训练数据的计算标准差\n",
        "\n",
        "    if specified_column == None:\n",
        "        specified_column = np.arange(X.shape[1])#.shape()中 若参数是空，输出行列。若是0则输出行数。若为1输出列数#np.arrange（x） 用来输出0到x的一个列表。返回列表\n",
        "    if train:\n",
        "       # print('1',specified_column.shape)\n",
        "       # print('2',X.shape)\n",
        "        X_mean = np.mean(X[:, specified_column], 0).reshape(1, -1) # 压缩行，对各列求均值  转化为一行 把54256行压缩为一行，列数仍为501列\n",
        "       # print('3',X_mean.shape)\n",
        "       # X_mean = np.mean(X ,0)\n",
        "       # print('4',X_mean.shape)\n",
        "       # X_mean=X_mean.reshape(1, -1)\n",
        "       # print('5',X_mean.shape)\n",
        "        X_std  = np.std(X[:, specified_column], 0).reshape(1, -1)\n",
        "       # print('6',X_std.shape)\n",
        "\n",
        "    X[:,specified_column] = (X[:, specified_column] - X_mean) / (X_std + 1e-8)  #将列归一化，中心化和标准化处理。\n",
        "    print('_normaliz',X.shape)\n",
        "    return X, X_mean, X_std"
      ],
      "metadata": {
        "id": "-CWSu1nzhuxw"
      },
      "execution_count": 36,
      "outputs": []
    },
    {
      "cell_type": "code",
      "source": [
        "def _train_dev_split(X, Y, dev_ratio = 0.25):\n",
        "    # 此函数将数据拆分为训练集和开发集。\n",
        "    train_size = int(len(X) * (1 - dev_ratio))\n",
        "    return X[:train_size], Y[:train_size], X[train_size:], Y[train_size:]"
      ],
      "metadata": {
        "id": "nxAiedkX4NJP"
      },
      "execution_count": 37,
      "outputs": []
    },
    {
      "cell_type": "code",
      "source": [
        "# Normalize training and testing data\n",
        "X_train, X_mean, X_std = _normalize(X_train, train = True)\n",
        "X_test, _, _= _normalize(X_test, train = False, specified_column = None, X_mean = X_mean, X_std = X_std)# 直接归一化\n",
        "    \n",
        "# Split data into training set and development set\n",
        "dev_ratio = 0.1\n",
        "X_train, Y_train, X_dev, Y_dev = _train_dev_split(X_train, Y_train, dev_ratio = dev_ratio)\n",
        "\n",
        "train_size = X_train.shape[0]#\n",
        "dev_size = X_dev.shape[0]\n",
        "test_size = X_test.shape[0]\n",
        "data_dim = X_train.shape[1]\n",
        "# print(\"1\",train_size)\n",
        "# print(\"2\",dev_size)\n",
        "# print(\"3\",test_size)\n",
        "# print(\"4\",data_dim)\n",
        "# Size of training set: 48830\n",
        "# Size of development set: 5426\n",
        "# Size of testing set: 27622\n",
        "# Dimension of data: 510"
      ],
      "metadata": {
        "id": "xfS_aGFh38f1",
        "colab": {
          "base_uri": "https://localhost:8080/"
        },
        "outputId": "47ce51b0-a001-440a-fddd-24003e77e814"
      },
      "execution_count": 38,
      "outputs": [
        {
          "output_type": "stream",
          "name": "stdout",
          "text": [
            "_normaliz (54256, 510)\n",
            "_normaliz (27622, 510)\n"
          ]
        }
      ]
    },
    {
      "cell_type": "code",
      "source": [
        "def _shuffle(X, Y):  #洗牌，排序\n",
        "    # 此函数将两个等长的列表/数组 X 和 Y 混在一起。\n",
        "    randomize = np.arange(len(X))\n",
        "    np.random.shuffle(randomize)\n",
        "    return (X[randomize], Y[randomize])    #作用是将行重新打乱。"
      ],
      "metadata": {
        "id": "IsVrL-TvKC_D"
      },
      "execution_count": 39,
      "outputs": []
    },
    {
      "cell_type": "code",
      "source": [
        "def _sigmoid(z):            #经典\n",
        "    # Sigmoid function can be used to calculate probability.\n",
        "    # To avoid overflow, minimum/maximum output value is set.\n",
        "    return np.clip(1 / (1.0 + np.exp(-z)), 1e-8, 1 - (1e-8))#np.clip(a,min,max),作用是将所有输出的a都限制在min和max之间。"
      ],
      "metadata": {
        "id": "gyp1TvJ7XHku"
      },
      "execution_count": 40,
      "outputs": []
    },
    {
      "cell_type": "code",
      "source": [
        "def _f(X, w, b):\n",
        "     # 这是逻辑回归函数，由 w 和 b 参数化\n",
        "     #\n",
        "     # 论点：\n",
        "     # X: 输入数据，shape = [batch_size, data_dimension] # 【8，510】\n",
        "     # w: 权重向量, shape = [data_dimension, ] # 【510，】\n",
        "     # b: 偏差，标量\n",
        "     # 输出：\n",
        "     # X 的每一行被正标记的预测概率，shape = [batch_size, ]\n",
        "    return _sigmoid(np.matmul(X, w) + b)#二维乘法。  返回n行1列"
      ],
      "metadata": {
        "id": "ZdhtySCDXcGN"
      },
      "execution_count": 41,
      "outputs": []
    },
    {
      "cell_type": "code",
      "source": [
        "def _predict(X, w, b):\n",
        "    # 此函数返回 X 的每一行的真值预测+\n",
        "    # 通过四舍五入逻辑回归函数的结果。\n",
        "    return np.round(_f(X, w, b)).astype(np.int)# 这里是取整 取整后容易产生梯度爆炸或溢出，故之后的loss不采用此函数；全精度>混合精度>半精度"
      ],
      "metadata": {
        "id": "BxmczStqXmGr"
      },
      "execution_count": 42,
      "outputs": []
    },
    {
      "cell_type": "code",
      "source": [
        "def _accuracy(Y_pred, Y_label):# 精度越大越好\n",
        "    # 这个函数计算预测精度\n",
        "    acc = 1 - np.mean(np.abs(Y_pred - Y_label))\n",
        "    return acc   "
      ],
      "metadata": {
        "id": "6Qxphz1lXycR"
      },
      "execution_count": 43,
      "outputs": []
    },
    {
      "cell_type": "code",
      "source": [
        "def _cross_entropy_loss(y_pred, Y_label):\n",
        "    224 / 5,000\n",
        "    # 这个函数计算交叉熵。\n",
        "    #\n",
        "    # 论点：\n",
        "    # y_pred：概率预测，浮点向量\n",
        "    # Y_label：ground truth 标签，布尔向量\n",
        "    # 输出：\n",
        "    # 交叉熵，标量\n",
        "    cross_entropy = -np.dot(Y_label, np.log(y_pred)) - np.dot((1 - Y_label), np.log(1 - y_pred))# np.dot 矩阵乘积\n",
        "    return cross_entropy\n"
      ],
      "metadata": {
        "id": "lVhIWrmzYHxj"
      },
      "execution_count": 44,
      "outputs": []
    },
    {
      "cell_type": "code",
      "source": [
        "def _gradient(X, Y_label, w, b):\n",
        "    # 此函数计算交叉熵损失相对于权重 w 和偏差 b 的梯度。\n",
        "    y_pred = _f(X, w, b)\n",
        "    pred_error = Y_label - y_pred\n",
        "    w_grad = -np.sum(pred_error * X.T, 1)  # -E(y_ - y)*X.T T(转置)\n",
        "    b_grad = -np.sum(pred_error)  #可不可以换成mean\n",
        "    return w_grad, b_grad\n"
      ],
      "metadata": {
        "id": "FbrmqP6OYkto"
      },
      "execution_count": 45,
      "outputs": []
    },
    {
      "cell_type": "code",
      "source": [
        "# 初始化权重w和b，令它们都为0\n",
        "w = np.zeros((data_dim,)) #[0,0,0,...,0]\n",
        "b = np.zeros((1,))\t\t#[0]\n",
        "\n",
        "# 训练时的超参数\n",
        "max_iter = 10\n",
        "batch_size = 8\n",
        "learning_rate = 0.2\n",
        "\n",
        "# 保存每个iteration的loss和accuracy，以便后续画图\n",
        "train_loss = []\n",
        "dev_loss = []\n",
        "train_acc = []\n",
        "dev_acc = []\n",
        "\n",
        "# 累计参数更新的次数\n",
        "step = 1\n",
        "\n",
        "# 迭代训练\n",
        "for epoch in range(max_iter):\n",
        "    # 在每个epoch开始时，随机打散训练数据\n",
        "    X_train, Y_train = _shuffle(X_train, Y_train) # X_train(54256, 510)  X_test(27622, 510)\n",
        "    \n",
        "    # Mini-batch训练\n",
        "    for idx in range(int(np.floor(train_size / batch_size))): #五万多行平均分，每一份的数据都有八行\n",
        "        X = X_train[idx*batch_size:(idx+1)*batch_size]    #每一个小batch都有八行，一个epoch有train_size / batch_size)个小batch\n",
        "        Y = Y_train[idx*batch_size:(idx+1)*batch_size]\n",
        "        #print(X.shape)\n",
        "        #print(Y.shape)\n",
        "        #print(\"*\"*50)\n",
        "\n",
        "        # 计算梯度\n",
        "        w_grad, b_grad = _gradient(X, Y, w, b)  # -E(y_ - y)*X.T T(转置)\n",
        "            \n",
        "        # 梯度下降法更新\n",
        "        # 学习率随时间衰减\n",
        "        w = w - learning_rate/np.sqrt(step) * w_grad # learning_rate/np.sqrt(step) 一会优化成AdaGrad\n",
        "        b = b - learning_rate/np.sqrt(step) * b_grad\n",
        "\n",
        "        step = step + 1\n",
        "            \n",
        "    # 计算训练集和验证集的loss和accuracy\n",
        "    y_train_pred = _f(X_train, w, b)\n",
        "    Y_train_pred = np.round(y_train_pred)\n",
        "    train_acc.append(_accuracy(Y_train_pred, Y_train))\n",
        "    train_loss.append(_cross_entropy_loss(y_train_pred, Y_train)/train_size )\n",
        "\n",
        "    y_dev_pred = _f(X_dev, w, b) # dev 实际要预测的内容\n",
        "    Y_dev_pred = np.round(y_dev_pred) # 等于_predict函数的内容\n",
        "    dev_acc.append(_accuracy(Y_dev_pred, Y_dev))\n",
        "    dev_loss.append(_cross_entropy_loss(y_dev_pred, Y_dev) / dev_size)\n",
        "\n",
        "print('Training loss: {}'.format(train_loss[-1]))\n",
        "print('Development loss: {}'.format(dev_loss[-1]))\n",
        "print('Training accuracy: {}'.format(train_acc[-1]))\n",
        "print('Development accuracy: {}'.format(dev_acc[-1]))\n",
        "# print(\"*\"*50)\n",
        "# print(train_size)\n",
        "# print(y_train_pred.shape)\n",
        "# print(\"*\"*50)\n",
        "# print(y_train_pred)\n"
      ],
      "metadata": {
        "colab": {
          "base_uri": "https://localhost:8080/"
        },
        "id": "AQjSJjP-kKLq",
        "outputId": "d3bf49d7-694d-40e2-9ff4-1fce2d2e39d0"
      },
      "execution_count": 63,
      "outputs": [
        {
          "output_type": "stream",
          "name": "stdout",
          "text": [
            "Training loss: 0.2707008690821554\n",
            "Development loss: 0.29627523395366184\n",
            "Training accuracy: 0.8831660864222813\n",
            "Development accuracy: 0.8754146701068928\n",
            "48830\n",
            "(48830,)\n",
            "**************************************************\n",
            "[0.01922568 0.46805958 0.13721134 ... 0.10092176 0.02742817 0.0186349 ]\n"
          ]
        }
      ]
    },
    {
      "cell_type": "markdown",
      "source": [
        "绘图"
      ],
      "metadata": {
        "id": "CGz-p7UtI2FA"
      }
    },
    {
      "cell_type": "code",
      "source": [
        "import matplotlib.pyplot as plt\n",
        "\n",
        "# Loss曲线\n",
        "plt.plot(train_loss)\n",
        "plt.plot(dev_loss)\n",
        "plt.title('Loss')\n",
        "plt.legend(['train', 'dev'])\n",
        "plt.savefig('loss.png')\n",
        "plt.show()\n",
        "\n",
        "# Accuracy曲线\n",
        "plt.plot(train_acc)\n",
        "plt.plot(dev_acc)\n",
        "plt.title('Accuracy')\n",
        "plt.legend(['train', 'dev'])\n",
        "plt.savefig('acc.png')\n",
        "plt.show()\n"
      ],
      "metadata": {
        "colab": {
          "base_uri": "https://localhost:8080/",
          "height": 545
        },
        "id": "KldcyYO0IvpR",
        "outputId": "f8146c10-d8a2-486d-c01c-b259a8b63e8e"
      },
      "execution_count": 64,
      "outputs": [
        {
          "output_type": "display_data",
          "data": {
            "text/plain": [
              "<Figure size 432x288 with 1 Axes>"
            ],
            "image/png": "[encoded data removed]"
          },
          "metadata": {
            "needs_background": "light"
          }
        },
        {
          "output_type": "display_data",
          "data": {
            "text/plain": [
              "<Figure size 432x288 with 1 Axes>"
            ],
            "image/png": "[encoded data removed]"
          },
          "metadata": {
            "needs_background": "light"
          }
        }
      ]
    },
    {
      "cell_type": "code",
      "source": [
        ""
      ],
      "metadata": {
        "id": "rI20E8jVM9WE"
      },
      "execution_count": null,
      "outputs": []
    }
  ]
}
